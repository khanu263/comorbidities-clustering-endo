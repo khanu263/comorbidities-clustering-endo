{
 "cells": [
  {
   "cell_type": "markdown",
   "metadata": {},
   "source": [
    "In this notebook, we compute a dimensionality reduction on the endometriosis patients and perform Leiden clustering."
   ]
  },
  {
   "cell_type": "code",
   "execution_count": null,
   "metadata": {},
   "outputs": [],
   "source": [
    "# imports\n",
    "import scanpy as sc\n",
    "\n",
    "# define filepaths and compute\n",
    "paths = [\"<AnnData filepath for endo patients, all conditions>\", \"<AnnData filepath for endo patients, pre-endo conditions>\"]\n",
    "for p in paths:\n",
    "    adata = sc.read_h5ad(p)\n",
    "    sc.tl.pca(adata, n_comps=1000)\n",
    "    sc.pp.neighbors(adata)\n",
    "    sc.tl.umap(adata, min_dist=0.1)\n",
    "    sc.tl.leiden(adata)\n",
    "    adata.write_h5ad(p)"
   ]
  }
 ],
 "metadata": {
  "kernelspec": {
   "display_name": "base",
   "language": "python",
   "name": "python3"
  },
  "language_info": {
   "name": "python",
   "version": "3.10.14"
  }
 },
 "nbformat": 4,
 "nbformat_minor": 2
}
