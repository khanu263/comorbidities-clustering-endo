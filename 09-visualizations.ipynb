{
 "cells": [
  {
   "cell_type": "markdown",
   "metadata": {},
   "source": [
    "Where possible, this notebook contains code to replicate the visualizations presented in the paper. Note that the various subparts of each figure are made by rerunning each piece of visualization code with slightly different inputs and parameters."
   ]
  },
  {
   "cell_type": "code",
   "execution_count": null,
   "metadata": {},
   "outputs": [],
   "source": [
    "# imports\n",
    "import numpy as np\n",
    "import pandas as pd\n",
    "import scanpy as sc\n",
    "import matplotlib.pyplot as plt\n",
    "import seaborn as sns\n",
    "import plotly.express as px\n",
    "from matplotlib.colors import to_hex\n",
    "from adjustText import adjust_text\n",
    "from scipy.stats import pearsonr\n",
    "from tqdm import tqdm"
   ]
  },
  {
   "cell_type": "markdown",
   "metadata": {},
   "source": [
    "### Figure 2a"
   ]
  },
  {
   "cell_type": "code",
   "execution_count": null,
   "metadata": {},
   "outputs": [],
   "source": [
    "# load and process data\n",
    "results = pd.read_csv(\"<aggregate results filepath>\")\n",
    "conversion_table = pd.read_csv(\"<SNOMED to ICD-10 chapter filepath>\")\n",
    "merged = results.merge(conversion_table, on=\"snomed\")\n",
    "merged = merged.sort_values(by=\"chapter\").reset_index(drop=True)\n",
    "correction = 1e-323\n",
    "merged['-log(p)'] = -np.log10(merged[\"agg-p-adj\"] + correction)\n",
    "\n",
    "# generate y-coordinates\n",
    "y = []\n",
    "for i, chapter in enumerate(merged[\"chapter\"].unique()):\n",
    "    y += list(22000 - np.linspace(1000 * i, 1000 * (i + 1), num = len(merged[merged[\"chapter\"] == chapter])))\n",
    "merged[\"y\"] = y\n",
    "\n",
    "# split into significant and non-significant\n",
    "sig = pd.read_csv(\"<filtered results, desired condition set>\")\n",
    "merged_sig = merged[merged[\"snomed\"].isin(sig[\"snomed\"])]\n",
    "merged_nonsig = merged[~merged[\"snomed\"].isin(merged_sig[\"snomed\"])]\n",
    "\n",
    "# set up text annotations (edit as desired)\n",
    "to_annot = merged_sig[merged_sig[\"-log(p)\"] > 100]\n",
    "\n",
    "# load colors\n",
    "color_df = pd.read_csv(\"<CSV containing desired colors>\")\n",
    "\n",
    "# create color dictionaries\n",
    "sig_color_dict = color_df[[\"chapter\", \"base\"]].set_index(\"chapter\").to_dict()[\"base\"]\n",
    "nonsig_color_dict = color_df[[\"chapter\", \"light\"]].set_index(\"chapter\").to_dict()[\"light\"]\n",
    "\n",
    "# create canvas\n",
    "fig, ax = plt.subplots(figsize=(20, 11))\n",
    "\n",
    "# plot points\n",
    "ax.scatter(merged_nonsig[\"-log(p)\"], merged_nonsig[\"y\"], color=[nonsig_color_dict[c] for c in merged_nonsig[\"chapter\"]], alpha=1, edgecolors=\"none\")\n",
    "ax.scatter(merged_sig[\"-log(p)\"], merged_sig[\"y\"], color=[sig_color_dict[c] for c in merged_sig[\"chapter\"]], alpha=1, edgecolors=\"none\")\n",
    "\n",
    "# set tick parameters\n",
    "ax.tick_params(axis='both', which='major', labelsize = 18)\n",
    "\n",
    "# y axis\n",
    "chapter_tick_df = merged.groupby(\"chapter_name\")[\"y\"].median()\n",
    "ax.set_yticks(chapter_tick_df)\n",
    "ax.set_yticklabels(chapter_tick_df.index)\n",
    "\n",
    "# x axis\n",
    "ax.xaxis.set_ticks_position('none')\n",
    "ax.set_xlabel(r\"-log$_{10}$(adj. p)\", fontsize = 18)\n",
    "ax.set_xlim(right=330)\n",
    "ax.set_xticks([0, 100, 200, 300], [\"0\", \"100\", \"200\", \"300\"])\n",
    "\n",
    "# annotations\n",
    "texts = []\n",
    "for index, row in to_annot.iterrows():\n",
    "    texts.append(ax.annotate(row[\"name\"], (row[\"-log(p)\"], row[\"y\"]), size=14, ha=\"center\", va=\"center\"))\n",
    "adjust_text(texts, expand=(2, 2), arrowprops=dict(arrowstyle=\"-\", color=\"gray\", lw=0.5))\n",
    "\n",
    "sns.despine()\n",
    "plt.tight_layout()\n",
    "plt.savefig(\"<output filepath>\", transparent=True)"
   ]
  },
  {
   "cell_type": "markdown",
   "metadata": {},
   "source": [
    "### Figure 2b"
   ]
  },
  {
   "cell_type": "code",
   "execution_count": null,
   "metadata": {},
   "outputs": [],
   "source": [
    "# load results and mapping\n",
    "results = pd.read_csv(\"<aggregate results filepath>\")\n",
    "results = results.iloc[:20, :]\n",
    "results = results.sort_values(by=\"avg-odds\", ascending=False).reset_index(drop=True)\n",
    "mapping = pd.read_csv(\"<SNOMED to ICD-10 chapter filepath>\")\n",
    "results = results.merge(mapping, on=\"snomed\")\n",
    "snomed_to_name = results[[\"snomed\", \"name\"]].set_index(\"snomed\").to_dict()[\"name\"]\n",
    "snomed_to_chapter = results[[\"snomed\", \"chapter\"]].set_index(\"snomed\").to_dict()[\"chapter\"]\n",
    "\n",
    "# load data for each replicate\n",
    "replicates = {}\n",
    "for i in range(30):\n",
    "    replicates[i] = pd.read_csv(f\"<directory for desired case versus control analysis>/replicate-{i+1:02}.csv\")\n",
    "\n",
    "# extract necessary information\n",
    "records = []\n",
    "for s in tqdm(results[\"snomed\"]):\n",
    "    for i in range(30):\n",
    "        repl = replicates[i]\n",
    "        records.append({\n",
    "            \"snomed\": s,\n",
    "            \"name\": snomed_to_name[s],\n",
    "            \"chapter\": snomed_to_chapter[s],\n",
    "            \"odds\": repl[repl[\"snomed\"] == s][\"odds\"].item(),\n",
    "            \"replicate\": i\n",
    "        })\n",
    "records = pd.DataFrame.from_records(records)\n",
    "\n",
    "# load color dictionary\n",
    "color_df = pd.read_csv(\"<CSV containing desired colors>\")\n",
    "color_dict = color_df[[\"chapter\", \"base\"]].set_index(\"chapter\").to_dict()[\"base\"]\n",
    "\n",
    "# create figure\n",
    "fig, ax = plt.subplots(figsize=(20, 16)) # pre\n",
    "\n",
    "# make boxplot\n",
    "sns.stripplot(data=records, x=\"odds\", y=\"name\", ax=ax, size=10, hue=\"chapter\", palette=color_dict)\n",
    "\n",
    "# add dividers\n",
    "for y in ax.get_yticks():\n",
    "    ax.axhline(y + .5, color=\"darkgray\")\n",
    "    \n",
    "# remove tick marks\n",
    "ax.xaxis.set_ticks_position('none') \n",
    "ax.yaxis.set_ticks_position('none')\n",
    "\n",
    "# set labels\n",
    "ax.set_xlabel(\"odds ratio\")\n",
    "ax.set_ylabel(\"condition\")\n",
    "\n",
    "# remove legend\n",
    "ax.get_legend().remove()\n",
    "\n",
    "plt.tight_layout()\n",
    "plt.savefig(\"<output filepath>\", transparent=True)"
   ]
  },
  {
   "cell_type": "markdown",
   "metadata": {},
   "source": [
    "### Figure 2c"
   ]
  },
  {
   "cell_type": "markdown",
   "metadata": {},
   "source": [
    "The code for generating the plots for Figure 2c was developed for the UC-wide environment and cannot be made publicly available. Please reach out to the corresponding author if needed."
   ]
  },
  {
   "cell_type": "markdown",
   "metadata": {},
   "source": [
    "### Figure 3b / Figure 4a"
   ]
  },
  {
   "cell_type": "code",
   "execution_count": null,
   "metadata": {},
   "outputs": [],
   "source": [
    "adata = sc.read_h5ad(f\"<desired AnnData filepath>\")\n",
    "colors = pd.read_csv(\"<CSV containing cluster-to-color mapping>\", dtype={\"leiden\": \"str\"})\n",
    "color_dict = colors[[\"leiden\", \"color\"]].set_index(\"leiden\").to_dict()[\"color\"]\n",
    "plt.clf()\n",
    "with plt.rc_context({\"figure.figsize\": (6, 4), \"figure.dpi\": 300}):\n",
    "    sc.pl.umap(adata, color=\"leiden\", palette=color_dict, legend_loc=\"none\")"
   ]
  },
  {
   "cell_type": "markdown",
   "metadata": {},
   "source": [
    "### Figure 4c"
   ]
  },
  {
   "cell_type": "code",
   "execution_count": null,
   "metadata": {},
   "outputs": [],
   "source": [
    "# load data\n",
    "full_adata = sc.read_h5ad(\"<AnnData filepath for endo patients, all conditions>\")\n",
    "pre_adata = sc.read_h5ad(\"<AnnData filepath for endo patients, pre-endo conditions>\")\n",
    "\n",
    "# create DataFrame for pre-to-full cluster changes\n",
    "df = pre_adata.obs.merge(full_adata.obs, on=\"person_id\")[[\"person_id\", \"leiden_x\", \"leiden_y\"]]\n",
    "df[\"leiden_x\"] = (df[\"leiden_x\"].astype(int) + 1).astype(str)\n",
    "df[\"leiden_y\"] = (df[\"leiden_y\"].astype(int) + 1).astype(str)\n",
    "\n",
    "# define color palette\n",
    "palette = sns.color_palette(\"husl\", len(df[\"leiden_x\"].unique()))\n",
    "palette_dict = {str(i + 1): palette[i] for i in range(31)}\n",
    "\n",
    "# generate plot\n",
    "fig = px.parallel_categories(\n",
    "    df,\n",
    "    dimensions=[\"leiden_x\", \"leiden_y\"],\n",
    "    labels={\"leiden_x\": \"\", \"leiden_y\": \"\"},\n",
    "    color=[to_hex(palette_dict[i]) for i in df[\"leiden_x\"]],\n",
    "    width=1900,\n",
    "    height=1800\n",
    ")\n",
    "\n",
    "# save image\n",
    "fig.update_layout(font={\"size\": 20})\n",
    "fig.write_image(\"<output filepath>\")"
   ]
  },
  {
   "cell_type": "markdown",
   "metadata": {},
   "source": [
    "### Supplementary Figure 1a"
   ]
  },
  {
   "cell_type": "code",
   "execution_count": null,
   "metadata": {},
   "outputs": [],
   "source": [
    "# compute UMAP representation for cases and closest controls\n",
    "adata = sc.read_h5ad(\"<AnnData filepath for all patients, all conditions>\")\n",
    "adata = adata[adata.obs[\"replicate\"].isin((0, 1))]\n",
    "sc.pp.neighbors(adata)\n",
    "sc.tl.umap(adata)\n",
    "\n",
    "# plot endometriosis status\n",
    "plt.clf()\n",
    "fig, ax = plt.subplots(figsize=(12, 12))\n",
    "color_dict = {\n",
    "    0: \"tab:blue\",\n",
    "    1: \"tab:orange\"\n",
    "}\n",
    "ax.scatter(adata.obsm[\"X_umap\"][:, 0], adata.obsm[\"X_umap\"][:, 1], s=2, color=[color_dict[x] for x in adata.obs[\"endo\"]])\n",
    "ax.set_yticklabels([])\n",
    "ax.set_xticklabels([])\n",
    "plt.tight_layout()\n",
    "plt.savefig(\"<output filepath>\", transparent=True)\n",
    "\n",
    "# plot age\n",
    "plt.clf()\n",
    "fig, ax = plt.subplots(figsize=(12, 12))\n",
    "plt.scatter(adata.obsm[\"X_umap\"][:, 0], adata.obsm[\"X_umap\"][:, 1], s=2, c=adata.obs[\"age\"], cmap=\"viridis\")\n",
    "ax.set_yticklabels([])\n",
    "ax.set_xticklabels([])\n",
    "plt.colorbar()\n",
    "plt.tight_layout()\n",
    "plt.savefig(\"<output filepath>\", transparent=True)\n",
    "\n",
    "# plot gender\n",
    "plt.clf()\n",
    "fig, ax = plt.subplots(figsize=(12, 12))\n",
    "color_dict = {\n",
    "    \"Female\": \"tab:blue\",\n",
    "    \"Male\": \"tab:orange\",\n",
    "    \"Unknown\": \"tab:green\",\n",
    "    \"Other\": \"tab:red\",\n",
    "}\n",
    "ax.scatter(adata.obsm[\"X_umap\"][:, 0], adata.obsm[\"X_umap\"][:, 1], s=2, color=[color_dict[x] for x in adata.obs[\"gender\"]])\n",
    "ax.set_yticklabels([])\n",
    "ax.set_xticklabels([])\n",
    "plt.tight_layout()\n",
    "plt.savefig(\"<output filepath>\", transparent=True)\n",
    "\n",
    "# plot race\n",
    "plt.clf()\n",
    "fig, ax = plt.subplots(figsize=(12, 12))\n",
    "color_dict = {\n",
    "    \"White\": \"tab:blue\",\n",
    "    \"Asian\": \"tab:orange\",\n",
    "    \"Other\": \"tab:green\",\n",
    "    \"Unknown\": \"tab:red\",\n",
    "    \"Black or African American\": \"tab:purple\",\n",
    "    \"Native Hawaiian or Other Pacific Islander\": \"tab:brown\",\n",
    "    \"American Indian or Alaska Native\": \"tab:pink\",\n",
    "}\n",
    "ax.scatter(adata.obsm[\"X_umap\"][:, 0], adata.obsm[\"X_umap\"][:, 1], s=2, color=[color_dict[x] for x in adata.obs[\"race\"]])\n",
    "ax.set_yticklabels([])\n",
    "ax.set_xticklabels([])\n",
    "plt.tight_layout()\n",
    "plt.savefig(\"<output filepath>\", transparent=True)\n",
    "\n",
    "# plot ethnicity\n",
    "plt.clf()\n",
    "fig, ax = plt.subplots(figsize=(12, 12))\n",
    "color_dict = {\n",
    "    \"Not Hispanic or Latino\": \"tab:blue\",\n",
    "    \"Unknown\": \"tab:orange\",\n",
    "    \"Hispanic or Latino\": \"tab:green\"\n",
    "}\n",
    "ax.scatter(adata.obsm[\"X_umap\"][:, 0], adata.obsm[\"X_umap\"][:, 1], s=2, color=[color_dict[x] for x in adata.obs[\"ethnicity\"]])\n",
    "ax.set_yticklabels([])\n",
    "ax.set_xticklabels([])\n",
    "plt.tight_layout()\n",
    "plt.savefig(\"<output filepath>\", transparent=True)"
   ]
  },
  {
   "cell_type": "markdown",
   "metadata": {},
   "source": [
    "### Supplementary Figure 1b"
   ]
  },
  {
   "cell_type": "markdown",
   "metadata": {},
   "source": [
    "The code for generating the plots for Supplementary Figure 1b was developed for the UC-wide environment and cannot be made publicly available. Please reach out to the corresponding author if needed."
   ]
  },
  {
   "cell_type": "markdown",
   "metadata": {},
   "source": [
    "### Supplementary Figure 2a"
   ]
  },
  {
   "cell_type": "code",
   "execution_count": null,
   "metadata": {},
   "outputs": [],
   "source": [
    "# load results and mapping\n",
    "results = pd.read_csv(\"<aggregate results filepath>\")\n",
    "results[\"p-nozero\"] = results[\"agg-p-adj\"].replace(to_replace=0, value=1e-323)\n",
    "results[\"log10(odds)\"] = np.log10(results[\"avg-odds\"])\n",
    "results[\"-log10(p)\"] = -np.log10(results[\"p-nozero\"])\n",
    "mapping = pd.read_csv(\"<SNOMED to ICD-10 chapter filepath>\")\n",
    "results = results.merge(mapping, on=\"snomed\")\n",
    "\n",
    "# split into significant and non-significant\n",
    "sig = pd.read_csv(\"<filtered results, desired condition set>\")\n",
    "results_sig = results[results[\"snomed\"].isin(sig[\"snomed\"])]\n",
    "results_nonsig = results[~results[\"snomed\"].isin(results_sig[\"snomed\"])]\n",
    "\n",
    "# set up annotations (as desired)\n",
    "to_annot = results_sig[results_sig[\"-log10(p)\"] > 300]\n",
    "to_annot = to_annot[to_annot[\"name\"].apply(lambda x: len(x) < 25)]\n",
    "\n",
    "# load colors\n",
    "color_df = pd.read_csv(\"<CSV containing desired colors>\")\n",
    "sig_color_dict = color_df[[\"chapter\", \"base\"]].set_index(\"chapter\").to_dict()[\"base\"]\n",
    "nonsig_color_dict = color_df[[\"chapter\", \"light\"]].set_index(\"chapter\").to_dict()[\"light\"]\n",
    "\n",
    "# create canvas\n",
    "fig, ax = plt.subplots(figsize=(15, 15))\n",
    "\n",
    "# plot points\n",
    "ax.scatter(results_nonsig[\"log10(odds)\"], results_nonsig[\"-log10(p)\"], color=[nonsig_color_dict[c] for c in results_nonsig[\"chapter\"]], alpha=1, edgecolors=\"none\")\n",
    "ax.scatter(results_sig[\"log10(odds)\"], results_sig[\"-log10(p)\"], color=[sig_color_dict[c] for c in results_sig[\"chapter\"]], alpha=1, edgecolors=\"none\")\n",
    "\n",
    "# set tick parameters\n",
    "ax.tick_params(axis='both', which='major', labelsize = 18)\n",
    "\n",
    "# y axis\n",
    "ax.yaxis.set_ticks_position('none')\n",
    "ax.set_ylabel(r\"-log$_{10}$(adj. p)\", fontsize = 18)\n",
    "ax.set_ylim(bottom=-30, top=450)\n",
    "ax.set_yticks([0, 50, 100, 150, 200, 250, 300, 350, 400], [\"0\", \"50\", \"100\", \"150\", \"200\", \"250\", \"300\", \"350\", \"400\"])\n",
    "\n",
    "# x axis\n",
    "ax.xaxis.set_ticks_position('none')\n",
    "ax.set_xlabel(r\"log$_{10}$(avg. odds ratio)\", fontsize = 18)\n",
    "ax.set_xlim(left=-2.4, right=2.4)\n",
    "ax.set_xticks([-2, -1, 0, 1, 2], [\"-2\", \"-1\", \"0\", \"1\", \"2\"])\n",
    "\n",
    "# guide lines\n",
    "ax.axvline(x=np.log10(1), ls=\"--\", color=\"dimgray\")\n",
    "ax.axhline(y=-np.log10(0.05), ls=\"--\", color=\"dimgray\")\n",
    "\n",
    "# annotations\n",
    "texts = []\n",
    "for index, row in to_annot.iterrows():\n",
    "    texts.append(ax.annotate(row[\"name\"], (row[\"log10(odds)\"], row[\"-log10(p)\"]), size=14, ha=\"center\", va=\"center\"))\n",
    "adjust_text(texts, expand=(2.5, 2.5), arrowprops=dict(arrowstyle=\"-\", color=\"gray\", lw=0.5))\n",
    "\n",
    "# finalize and save\n",
    "sns.despine()\n",
    "plt.tight_layout()\n",
    "plt.savefig(\"<output filepath>\", transparent=True)"
   ]
  },
  {
   "cell_type": "markdown",
   "metadata": {},
   "source": [
    "### Supplementary Figure 2b"
   ]
  },
  {
   "cell_type": "markdown",
   "metadata": {},
   "source": [
    "The code for generating the plots for Supplementary Figure 2b was developed for the UC-wide environment and cannot be made publicly available. Please reach out to the corresponding author if needed."
   ]
  },
  {
   "cell_type": "markdown",
   "metadata": {},
   "source": [
    "### Supplementary Figure 3 (UCSF)"
   ]
  },
  {
   "cell_type": "code",
   "execution_count": null,
   "metadata": {},
   "outputs": [],
   "source": [
    "# load results for full condition set\n",
    "full_results = pd.read_csv(\"<filtered results, full condition set>\")\n",
    "full_results[\"p-nozero\"] = full_results[\"agg-p-adj\"].replace(to_replace=0, value=1e-323)\n",
    "full_results[\"log10(odds)\"] = np.log10(full_results[\"avg-odds\"])\n",
    "full_results[\"-log10(p)\"] = -np.log10(full_results[\"p-nozero\"])\n",
    "full_results\n",
    "\n",
    "# load results for pre-endometriosis condition set\n",
    "pre_results = pd.read_csv(\"<filtered results, pre-endo condition set>\")\n",
    "pre_results[\"p-nozero\"] = pre_results[\"agg-p-adj\"].replace(to_replace=0, value=1e-323)\n",
    "pre_results[\"log10(odds)\"] = np.log10(pre_results[\"avg-odds\"])\n",
    "pre_results[\"-log10(p)\"] = -np.log10(pre_results[\"p-nozero\"])\n",
    "pre_results\n",
    "\n",
    "# get intersection\n",
    "full_sig = full_results[full_results[\"agg-sig\"] == True][\"snomed\"]\n",
    "pre_sig = pre_results[pre_results[\"agg-sig\"] == True][\"snomed\"]\n",
    "inter = list(set(full_sig).intersection(set(pre_sig)))\n",
    "merged = full_results[full_results[\"snomed\"].isin(inter)].merge(pre_results[pre_results[\"snomed\"].isin(inter)], on=\"snomed\", suffixes=(\"_full\", \"_pre\")).sort_values(by=\"snomed\", ignore_index=True)\n",
    "\n",
    "# add chapter annotations\n",
    "mapping = pd.read_csv(\"<SNOMED to ICD-10 chapter filepath>\")\n",
    "merged = merged.merge(mapping, on=\"snomed\")\n",
    "merged\n",
    "\n",
    "# load color dictionary\n",
    "color_df = pd.read_csv(\"<CSV containing desired colors>\")\n",
    "color_dict = color_df[[\"chapter\", \"base\"]].set_index(\"chapter\").to_dict()[\"base\"]\n",
    "\n",
    "# create and save figure\n",
    "fig, ax = plt.subplots(figsize=(15, 10))\n",
    "ax.tick_params(axis='both', which='major', labelsize = 18)\n",
    "ax.axline((0, 0), slope=1, ls=\"--\", color=\"dimgray\")\n",
    "sns.scatterplot(data=merged, x=\"log10(odds)_full\", y=\"log10(odds)_pre\", ax=ax, legend=False, hue=\"chapter\", palette=color_dict)\n",
    "ax.set_xlim(left=-0.7, right=2.7)\n",
    "ax.set_ylim(bottom=-0.7, top=2.7)\n",
    "ax.set_xlabel(r\"log$_{10}$(avg. odds ratio) [full]\", fontsize = 18)\n",
    "ax.set_ylabel(r\"log$_{10}$(avg. odds ratio) [pre-endo.]\", fontsize = 18)\n",
    "plt.tight_layout()\n",
    "plt.savefig(\"<output filepath>\", transparent=True)\n",
    "\n",
    "# run correlation analysis\n",
    "print(pearsonr(merged[\"log10(odds)_full\"], merged[\"log10(odds)_pre\"]))"
   ]
  },
  {
   "cell_type": "markdown",
   "metadata": {},
   "source": [
    "### Supplementary Figure 3 (UC-wide)"
   ]
  },
  {
   "cell_type": "markdown",
   "metadata": {},
   "source": [
    "The code for generating the plots for this part of Supplementary Figure 3 was developed for the UC-wide environment and cannot be made publicly available. Please reach out to the corresponding author if needed."
   ]
  }
 ],
 "metadata": {
  "kernelspec": {
   "display_name": "base",
   "language": "python",
   "name": "python3"
  },
  "language_info": {
   "name": "python",
   "version": "3.10.14"
  }
 },
 "nbformat": 4,
 "nbformat_minor": 2
}
