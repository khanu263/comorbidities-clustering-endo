{
 "cells": [
  {
   "cell_type": "markdown",
   "metadata": {},
   "source": [
    "If you've run the code so far for cohorts matched with and without healthcare utilization variables, you'll have enrichment results for analyses from both cohorts. This notebook takes the results from the non-adjusted analysis and filters out the conditions that don't appear in the adjusted analysis."
   ]
  },
  {
   "cell_type": "code",
   "execution_count": null,
   "metadata": {},
   "outputs": [],
   "source": [
    "# imports\n",
    "import pandas as pd\n",
    "\n",
    "# load results\n",
    "full_without = pd.read_csv(\"<aggregate results, non-adjusted, full condition set>\")\n",
    "full_with = pd.read_csv(\"<aggregate results, adjusted, full condition set>\")\n",
    "pre_without = pd.read_csv(\"<aggregate results, non-adjusted, pre-endo condition set>\")\n",
    "pre_with = pd.read_csv(\"<aggregate results, adjusted, pre-endo condition set>\")\n",
    "\n",
    "# filter conditions\n",
    "full_without_sig = full_without[full_without[\"agg-sig\"]]\n",
    "full_without_filtered = full_without_sig[full_without_sig[\"snomed\"].isin(full_with[full_with[\"agg-sig\"]][\"snomed\"])]\n",
    "pre_without_sig = pre_without[pre_without[\"agg-sig\"]]\n",
    "pre_without_filtered = pre_without_sig[pre_without_sig[\"snomed\"].isin(pre_with[pre_with[\"agg-sig\"]][\"snomed\"])]\n",
    "\n",
    "# save results\n",
    "full_without_filtered.to_csv(\"<filtered results, full condition set>\", index=False)\n",
    "pre_without_filtered.to_csv(\"<filtered results, pre-endo condition set>\", index=False)"
   ]
  }
 ],
 "metadata": {
  "kernelspec": {
   "display_name": "base",
   "language": "python",
   "name": "python3"
  },
  "language_info": {
   "name": "python",
   "version": "3.10.14"
  }
 },
 "nbformat": 4,
 "nbformat_minor": 2
}
