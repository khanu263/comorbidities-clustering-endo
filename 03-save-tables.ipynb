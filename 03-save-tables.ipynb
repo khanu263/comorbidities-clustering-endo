{
 "cells": [
  {
   "cell_type": "markdown",
   "metadata": {},
   "source": [
    "In this notebook, we retrieve all the other structured data we need for our analysis and save it to disk for easy retrieval in subsequent notebooks. Once again, the OMOP tables are assumed to be accessible from a `dask-sql` context, as in `01-retrieve-population.ipynb`."
   ]
  },
  {
   "cell_type": "code",
   "execution_count": null,
   "metadata": {},
   "outputs": [],
   "source": [
    "# imports\n",
    "import pandas as pd\n",
    "\n",
    "# load cohort\n",
    "cohort = pd.read_feather(\"<cohort filepath>\")\n",
    "person_ids = \", \".join(cohort[\"<person ID>\"].astype(str).tolist())\n",
    "\n",
    "# save table with patient information\n",
    "query = c.sql(f\"\"\"\n",
    "    SELECT *\n",
    "    FROM <person table>\n",
    "    WHERE <person ID> IN ({person_ids})\n",
    "    ORDER BY <person ID>\n",
    "\"\"\")\n",
    "person_table = query.compute()\n",
    "person_table.reset_index(drop=True).to_feather(\"<person table filepath>\")\n",
    "\n",
    "# save table with condition information\n",
    "query = c.sql(f\"\"\"\n",
    "    SELECT *\n",
    "    FROM <condition occurrence table>\n",
    "    WHERE <person ID> IN ({person_ids})\n",
    "    ORDER BY <person ID>\n",
    "\"\"\")\n",
    "condition_table = query.compute()\n",
    "condition_table.reset_index(drop=True).to_feather(\"<condition table filepath>\")\n",
    "\n",
    "# save table with concept information\n",
    "concept_ids = sorted(condition_table[\"<condition concept ID>\"].unique())\n",
    "query = c.sql(f\"\"\"\n",
    "    SELECT *\n",
    "    FROM <concept table>\n",
    "    WHERE <concept ID> IN ({\", \".join(str(i) for i in concept_ids)})\n",
    "\"\"\")\n",
    "concept_table = query.compute()\n",
    "concept_table.reset_index(drop=True).to_feather(\"<concept table filepath>\")"
   ]
  }
 ],
 "metadata": {
  "kernelspec": {
   "display_name": "base",
   "language": "python",
   "name": "python3"
  },
  "language_info": {
   "name": "python",
   "version": "3.10.14"
  }
 },
 "nbformat": 4,
 "nbformat_minor": 2
}
